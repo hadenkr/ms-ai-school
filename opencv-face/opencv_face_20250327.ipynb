{
 "cells": [
  {
   "cell_type": "code",
   "execution_count": 1,
   "metadata": {},
   "outputs": [],
   "source": [
    "import os\n",
    "import gradio as gr\n",
    "import cv2"
   ]
  },
  {
   "cell_type": "code",
   "execution_count": 2,
   "metadata": {},
   "outputs": [
    {
     "data": {
      "text/plain": [
       "'f:\\\\Study\\\\.venv\\\\Lib\\\\site-packages\\\\cv2\\\\data\\\\'"
      ]
     },
     "execution_count": 2,
     "metadata": {},
     "output_type": "execute_result"
    }
   ],
   "source": [
    "cv2.data.haarcascades"
   ]
  },
  {
   "cell_type": "code",
   "execution_count": 3,
   "metadata": {},
   "outputs": [],
   "source": [
    "# haarcascade_frontalface_default.xml\n",
    "cascade_path = os.path.join(cv2.data.haarcascades, 'haarcascade_frontalface_default.xml')\n",
    "face_cascade = cv2.CascadeClassifier(cascade_path)"
   ]
  },
  {
   "cell_type": "code",
   "execution_count": 4,
   "metadata": {},
   "outputs": [],
   "source": [
    "def detect_face(origin_image):\n",
    "    # 첫번째. 이미지를 RGB -> BGR 변환\n",
    "    # Origin Image를 numpy 로 변환해야 한다. webcam 에서 오는 이미지는 numpy 형태\n",
    "    image = cv2.cvtColor(origin_image, cv2.COLOR_RGB2BGR)\n",
    "    \n",
    "    face_list = face_cascade.detectMultiScale(\n",
    "        image=image,\n",
    "        scaleFactor=1.1,\n",
    "        minNeighbors=5,\n",
    "        minSize=(30, 30)\n",
    "    )\n",
    "\n",
    "    # print(face_list)\n",
    "\n",
    "    # face_list, reject_level_list, level_weight_list = face_cascade.detectMultiScale3(\n",
    "    #     image=image,\n",
    "    #     scaleFactor=1.1,\n",
    "    #     minNeighbors=5,\n",
    "    #     minSize=(30, 30)\n",
    "    # )\n",
    "\n",
    "    # print('reject_level_list : ', reject_level_list)\n",
    "    # print('level_weight_list : ', level_weight_list)\n",
    "\n",
    "    for face in face_list:\n",
    "        x, y, w, h = face\n",
    "        cv2.rectangle(image, (x, y), (x + w, y + h), (0, 255, 0), 2)\n",
    "    \n",
    "    image = cv2.cvtColor(image, cv2.COLOR_BGR2RGB)\n",
    "\n",
    "    return image"
   ]
  },
  {
   "cell_type": "code",
   "execution_count": null,
   "metadata": {},
   "outputs": [],
   "source": [
    "haarcascade_files = [\n",
    "    \"haarcascade_frontalface_default.xml\",      # 정면 얼굴 감지\n",
    "    \"haarcascade_frontalface_alt.xml\",          # 정면 얼굴 감지 (다른방식)\n",
    "    \"haarcascade_frontalface_alt2.xml\",         # 정면 얼굴 감지 (다른방식2)\n",
    "    \"haarcascade_frontalface_alt_tree.xml\",     # 정면 얼굴 감지 (tree 방식)\n",
    "    \"haarcascade_profileface.xml\",              # 측면 얼굴 감지\n",
    "    \"haarcascade_smile.xml\",                    # 표정 감지(미소)\n",
    "    \"haarcascade_eye.xml\",                      # 눈 감지\n",
    "    \"haarcascade_eye_tree_eyeglasses.xml\",      # 안경쓴 눈 감지\n",
    "    \"haarcascade_lefteye_2splits.xml\",          # 왼쪽 눈 감지\n",
    "    \"haarcascade_righteye_2splits.xml\",         # 오른쪽 눈 감지\n",
    "    \"haarcascade_frontalcatface.xml\",           # 정면 고양이 얼굴 감지\n",
    "    \"haarcascade_frontalcatface_extended.xml\",  # 정면 고양이 얼굴 감지 확장 모델     \n",
    "    \"haarcascade_fullbody.xml\",                 # 전신 감지\n",
    "    \"haarcascade_upperbody.xml\"                 # 상체 감지\n",
    "    \"haarcascade_lowerbody.xml\",                # 하체 감지\n",
    "    \"haarcascade_license_plate_rus_16stages.xml\",   # 러시아 차 번호판 감지\n",
    "    \"haarcascade_russian_plate_number.xml\",     # 러시아 차 번호판 감지 (다른방식)   \n",
    "]"
   ]
  },
  {
   "cell_type": "code",
   "execution_count": 5,
   "metadata": {},
   "outputs": [
    {
     "data": {
      "text/plain": [
       "['haarcascade_eye.xml',\n",
       " 'haarcascade_eye_tree_eyeglasses.xml',\n",
       " 'haarcascade_frontalcatface.xml',\n",
       " 'haarcascade_frontalcatface_extended.xml',\n",
       " 'haarcascade_frontalface_alt.xml',\n",
       " 'haarcascade_frontalface_alt2.xml',\n",
       " 'haarcascade_frontalface_alt_tree.xml',\n",
       " 'haarcascade_frontalface_default.xml',\n",
       " 'haarcascade_fullbody.xml',\n",
       " 'haarcascade_lefteye_2splits.xml',\n",
       " 'haarcascade_license_plate_rus_16stages.xml',\n",
       " 'haarcascade_lowerbody.xml',\n",
       " 'haarcascade_profileface.xml',\n",
       " 'haarcascade_righteye_2splits.xml',\n",
       " 'haarcascade_russian_plate_number.xml',\n",
       " 'haarcascade_smile.xml',\n",
       " 'haarcascade_upperbody.xml']"
      ]
     },
     "execution_count": 5,
     "metadata": {},
     "output_type": "execute_result"
    }
   ],
   "source": [
    "haarcascade_files = [file for file in os.listdir(cv2.data.haarcascades) if file.endswith('.xml')]\n",
    "haarcascade_files"
   ]
  },
  {
   "cell_type": "code",
   "execution_count": 6,
   "metadata": {},
   "outputs": [
    {
     "name": "stdout",
     "output_type": "stream",
     "text": [
      "* Running on local URL:  http://127.0.0.1:7860\n",
      "\n",
      "To create a public link, set `share=True` in `launch()`.\n"
     ]
    },
    {
     "data": {
      "text/html": [
       "<div><iframe src=\"http://127.0.0.1:7860/\" width=\"100%\" height=\"500\" allow=\"autoplay; camera; microphone; clipboard-read; clipboard-write;\" frameborder=\"0\" allowfullscreen></iframe></div>"
      ],
      "text/plain": [
       "<IPython.core.display.HTML object>"
      ]
     },
     "metadata": {},
     "output_type": "display_data"
    },
    {
     "data": {
      "text/plain": []
     },
     "execution_count": 6,
     "metadata": {},
     "output_type": "execute_result"
    }
   ],
   "source": [
    "with gr.Blocks() as demo:\n",
    "    def stream_webcam(image):\n",
    "        detected_image = detect_face(image)\n",
    "        return detected_image\n",
    "    \n",
    "    def change_haar(haar):\n",
    "        global face_cascade\n",
    "\n",
    "        face_cascade = cv2.CascadeClassifier(os.path.join(cv2.data.haarcascades, haar))\n",
    "        print(haar)\n",
    "\n",
    "    haar_dropdown = gr.Dropdown(label='Haar Cascade', choices=haarcascade_files, value=haarcascade_files[0])\n",
    "    webcam_input = gr.Image(label='카메라', sources='webcam', streaming=True, width=480, height=270, mirror_webcam=False)\n",
    "    output_image = gr.Image(label='화면', streaming=True)\n",
    "\n",
    "    webcam_input.stream(stream_webcam, inputs=[webcam_input], outputs=[output_image])\n",
    "    haar_dropdown.change(change_haar, inputs=[haar_dropdown], outputs=[])\n",
    "\n",
    "demo.launch()"
   ]
  },
  {
   "cell_type": "code",
   "execution_count": 7,
   "metadata": {},
   "outputs": [
    {
     "name": "stdout",
     "output_type": "stream",
     "text": [
      "Closing server running on port: 7860\n"
     ]
    }
   ],
   "source": [
    "demo.close()"
   ]
  }
 ],
 "metadata": {
  "kernelspec": {
   "display_name": ".venv",
   "language": "python",
   "name": "python3"
  },
  "language_info": {
   "codemirror_mode": {
    "name": "ipython",
    "version": 3
   },
   "file_extension": ".py",
   "mimetype": "text/x-python",
   "name": "python",
   "nbconvert_exporter": "python",
   "pygments_lexer": "ipython3",
   "version": "3.13.1"
  }
 },
 "nbformat": 4,
 "nbformat_minor": 2
}
