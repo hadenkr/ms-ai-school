{
 "cells": [
  {
   "cell_type": "markdown",
   "metadata": {},
   "source": [
    "# 1. 필요한 라이브러리"
   ]
  },
  {
   "cell_type": "code",
   "execution_count": 1,
   "metadata": {},
   "outputs": [],
   "source": [
    "import os, sys\n",
    "import requests"
   ]
  },
  {
   "cell_type": "code",
   "execution_count": 2,
   "metadata": {},
   "outputs": [],
   "source": [
    "current_dir = os.getcwd()\n",
    "parent_dir = os.path.dirname(current_dir)\n",
    "sys.path.append(parent_dir)"
   ]
  },
  {
   "cell_type": "code",
   "execution_count": 3,
   "metadata": {},
   "outputs": [],
   "source": [
    "from common.config import get_config_info"
   ]
  },
  {
   "cell_type": "markdown",
   "metadata": {},
   "source": [
    "# 2. 설정 파일 읽어오기"
   ]
  },
  {
   "cell_type": "code",
   "execution_count": 4,
   "metadata": {},
   "outputs": [],
   "source": [
    "config = get_config_info('./config/settings2.json')\n",
    "\n",
    "ENDPOINT = config['vr_endpoint']\n",
    "MODEL = config['vr_api_model']\n",
    "API_KEY = config['vr_api_key']\n",
    "API_VERSION = config['vr_api_version']\n",
    "INDEX_NAME = config['vr_index_name']\n",
    "VIDEO_SAS_URL = config['vr_sas_url']\n",
    "VIDEO_SAS_TOKEN = config['vr_sas_token']"
   ]
  },
  {
   "cell_type": "markdown",
   "metadata": {},
   "source": [
    "# 3. 레퍼런스\n",
    "[문서] https://learn.microsoft.com/ko-kr/azure/ai-services/computer-vision/how-to/video-retrieval"
   ]
  },
  {
   "cell_type": "markdown",
   "metadata": {},
   "source": [
    "# 4. 인덱스 만들기"
   ]
  },
  {
   "cell_type": "code",
   "execution_count": 5,
   "metadata": {},
   "outputs": [],
   "source": [
    "def request_video_create_index():\n",
    "    query_params = {\n",
    "        'api-version': API_VERSION\n",
    "    }\n",
    "    \n",
    "    endpoint = '{}/{}/{}'.format(ENDPOINT, MODEL, INDEX_NAME)\n",
    "\n",
    "    # method\n",
    "    headers = {\n",
    "        'Ocp-Apim-Subscription-Key': API_KEY,\n",
    "        'Content-Type': 'application/json'\n",
    "    }\n",
    "\n",
    "    body = {\n",
    "        'metadataSchema': {\n",
    "            'language': 'ko',\n",
    "            'fields': [\n",
    "                {\n",
    "                'name': 'cameraId',\n",
    "                'searchable': False,\n",
    "                'filterable': True,\n",
    "                'type': 'string'\n",
    "                },\n",
    "                {\n",
    "                'name': 'timestamp',\n",
    "                'searchable': False,\n",
    "                'filterable': True,\n",
    "                'type': 'datetime'\n",
    "                }\n",
    "            ]\n",
    "        },\n",
    "        'features': [\n",
    "            {\n",
    "                'name': 'vision',\n",
    "                'domain': 'surveillance'\n",
    "            },\n",
    "            {\n",
    "                'name': 'speech'\n",
    "            }\n",
    "        ]\n",
    "    }\n",
    "    \n",
    "    response = requests.put(endpoint, params=query_params, headers=headers, json=body)\n",
    "\n",
    "    if response.status_code == 201:\n",
    "        print('success {}'.format(response.status_code))\n",
    "    else:\n",
    "        print('failure {}'.format(response.status_code))\n",
    "    \n",
    "    return response.json()"
   ]
  },
  {
   "cell_type": "code",
   "execution_count": 6,
   "metadata": {},
   "outputs": [
    {
     "name": "stdout",
     "output_type": "stream",
     "text": [
      "success 201\n"
     ]
    },
    {
     "data": {
      "text/plain": [
       "{'name': '6b018-news5',\n",
       " 'metadataSchema': {'language': 'ko',\n",
       "  'fields': [{'name': 'cameraid',\n",
       "    'searchable': False,\n",
       "    'filterable': True,\n",
       "    'type': 'string'},\n",
       "   {'name': 'timestamp',\n",
       "    'searchable': False,\n",
       "    'filterable': True,\n",
       "    'type': 'datetime'}]},\n",
       " 'userData': {},\n",
       " 'features': [{'name': 'vision',\n",
       "   'modelVersion': '2023-05-31',\n",
       "   'domain': 'surveillance'},\n",
       "  {'name': 'speech', 'modelVersion': '2023-06-30', 'domain': 'generic'}],\n",
       " 'eTag': '\"01234567890123456789012345678901\"',\n",
       " 'createdDateTime': '2025-03-25T10:10:52.6129735Z',\n",
       " 'lastModifiedDateTime': '2025-03-25T10:10:52.6129735Z'}"
      ]
     },
     "execution_count": 6,
     "metadata": {},
     "output_type": "execute_result"
    }
   ],
   "source": [
    "response1 = request_video_create_index()\n",
    "response1"
   ]
  },
  {
   "cell_type": "markdown",
   "metadata": {},
   "source": [
    "# 5. 비디오 업로드"
   ]
  },
  {
   "cell_type": "code",
   "execution_count": 7,
   "metadata": {},
   "outputs": [],
   "source": [
    "def request_video_upload(ingestion_id):\n",
    "    query_params = {\n",
    "        'api-version': API_VERSION\n",
    "    }\n",
    "    \n",
    "    endpoint = '{}/{}/{}/ingestions/{}'.format(ENDPOINT, MODEL, INDEX_NAME, ingestion_id)\n",
    "\n",
    "    # method\n",
    "    headers = {\n",
    "        'Ocp-Apim-Subscription-Key': API_KEY,\n",
    "        'Content-Type': 'application/json'\n",
    "    }\n",
    "\n",
    "    body = {\n",
    "        'videos': [\n",
    "            {\n",
    "                'mode': 'add',\n",
    "                'documentId': '02a504c9cd28296a8b74394ed7488045',\n",
    "                'documentUrl': '{}?{}'.format(VIDEO_SAS_URL, VIDEO_SAS_TOKEN),\n",
    "                'metadata': {\n",
    "                    'cameraId': 'camera1',\n",
    "                    'timestamp': '2025-03-25 17:20:33'\n",
    "                }\n",
    "            }\n",
    "        ]\n",
    "    }\n",
    "    \n",
    "    response = requests.put(endpoint, params=query_params, headers=headers, json=body)\n",
    "\n",
    "    if response.status_code == 202:\n",
    "        print('success {}'.format(response.status_code))\n",
    "    else:\n",
    "        print('failure {}'.format(response.status_code))\n",
    "    \n",
    "    return response.json()"
   ]
  },
  {
   "cell_type": "code",
   "execution_count": 8,
   "metadata": {},
   "outputs": [
    {
     "name": "stdout",
     "output_type": "stream",
     "text": [
      "success 202\n"
     ]
    },
    {
     "data": {
      "text/plain": [
       "{'name': '6b018-news5',\n",
       " 'state': 'Running',\n",
       " 'batchName': '50837351-6dbb-466f-9182-b75376181832',\n",
       " 'createdDateTime': '2025-03-25T10:10:58.8630132Z',\n",
       " 'lastModifiedDateTime': '2025-03-25T10:10:59.3786401Z'}"
      ]
     },
     "execution_count": 8,
     "metadata": {},
     "output_type": "execute_result"
    }
   ],
   "source": [
    "response2 = request_video_upload(INDEX_NAME)\n",
    "response2"
   ]
  },
  {
   "cell_type": "markdown",
   "metadata": {},
   "source": [
    "# 6. 결과 상태 체크"
   ]
  },
  {
   "cell_type": "code",
   "execution_count": 9,
   "metadata": {},
   "outputs": [],
   "source": [
    "def request_video_result():\n",
    "    query_params = {\n",
    "        'api-version': API_VERSION\n",
    "    }\n",
    "    \n",
    "    endpoint = '{}/{}/{}/ingestions'.format(ENDPOINT, MODEL, INDEX_NAME)\n",
    "\n",
    "    # method\n",
    "    headers = {\n",
    "        'Ocp-Apim-Subscription-Key': API_KEY,\n",
    "        'Content-Type': 'application/json'\n",
    "    }\n",
    "    \n",
    "    response = requests.get(endpoint, params=query_params, headers=headers)\n",
    "\n",
    "    if response.status_code == 200:\n",
    "        print('success {}'.format(response.status_code))\n",
    "    else:\n",
    "        print('failure {}'.format(response.status_code))\n",
    "    \n",
    "    return response.json()"
   ]
  },
  {
   "cell_type": "code",
   "execution_count": 10,
   "metadata": {},
   "outputs": [
    {
     "name": "stdout",
     "output_type": "stream",
     "text": [
      "success 200\n"
     ]
    },
    {
     "data": {
      "text/plain": [
       "{'value': [{'name': '6b018-news5',\n",
       "   'state': 'Running',\n",
       "   'batchName': '50837351-6dbb-466f-9182-b75376181832',\n",
       "   'createdDateTime': '2025-03-25T10:10:58.8630132Z',\n",
       "   'lastModifiedDateTime': '2025-03-25T10:10:59.3786401Z'}]}"
      ]
     },
     "execution_count": 10,
     "metadata": {},
     "output_type": "execute_result"
    }
   ],
   "source": [
    "response3 = request_video_result()\n",
    "response3"
   ]
  },
  {
   "cell_type": "code",
   "execution_count": 11,
   "metadata": {},
   "outputs": [
    {
     "name": "stdout",
     "output_type": "stream",
     "text": [
      "success 200\n"
     ]
    },
    {
     "data": {
      "text/plain": [
       "{'value': [{'name': '6b018-news5',\n",
       "   'state': 'Completed',\n",
       "   'batchName': '50837351-6dbb-466f-9182-b75376181832',\n",
       "   'createdDateTime': '2025-03-25T10:10:58.8630132Z',\n",
       "   'lastModifiedDateTime': '2025-03-25T10:12:17.6604081Z'}]}"
      ]
     },
     "execution_count": 11,
     "metadata": {},
     "output_type": "execute_result"
    }
   ],
   "source": [
    "response3 = request_video_result()\n",
    "response3"
   ]
  },
  {
   "cell_type": "code",
   "execution_count": 12,
   "metadata": {},
   "outputs": [
    {
     "name": "stdout",
     "output_type": "stream",
     "text": [
      "6b018-news5 Completed\n"
     ]
    }
   ],
   "source": [
    "print(response3['value'][0]['name'], response3['value'][0]['state'])"
   ]
  },
  {
   "cell_type": "markdown",
   "metadata": {},
   "source": [
    "# 7. 조회"
   ]
  },
  {
   "cell_type": "code",
   "execution_count": 13,
   "metadata": {},
   "outputs": [],
   "source": [
    "def request_video_search(query):\n",
    "    query_params = {\n",
    "        'api-version': API_VERSION\n",
    "    }\n",
    "    \n",
    "    endpoint = '{}/{}/{}:queryByText'.format(ENDPOINT, MODEL, INDEX_NAME)\n",
    "\n",
    "    # method\n",
    "    headers = {\n",
    "        'Ocp-Apim-Subscription-Key': API_KEY,\n",
    "        'Content-Type': 'application/json'\n",
    "    }\n",
    "    \n",
    "    body = {\n",
    "        'queryText': query,\n",
    "        'filters': {\n",
    "            'stringFilters': [\n",
    "                {\n",
    "                    'fieldName': 'cameraId',\n",
    "                    'values': [\n",
    "                        'camera1'\n",
    "                    ]\n",
    "                }\n",
    "            ],\n",
    "            'featureFilters': ['vision'\n",
    "            ]\n",
    "        }\n",
    "    }\n",
    "\n",
    "    response = requests.post(endpoint, params=query_params, headers=headers, json=body)\n",
    "\n",
    "    if response.status_code == 200:\n",
    "        print('success {}'.format(response.status_code))\n",
    "    else:\n",
    "        print('failure {}'.format(response.status_code))\n",
    "    \n",
    "    return response.json()"
   ]
  },
  {
   "cell_type": "code",
   "execution_count": 14,
   "metadata": {},
   "outputs": [
    {
     "name": "stdout",
     "output_type": "stream",
     "text": [
      "success 200\n"
     ]
    },
    {
     "data": {
      "text/plain": [
       "{'value': [{'documentId': '02a504c9cd28296a8b74394ed7488045',\n",
       "   'documentKind': 'VideoInterval',\n",
       "   'start': '00:02:30',\n",
       "   'end': '00:02:53',\n",
       "   'best': '00:02:41',\n",
       "   'relevance': 0.2947569489479065},\n",
       "  {'documentId': '02a504c9cd28296a8b74394ed7488045',\n",
       "   'documentKind': 'VideoInterval',\n",
       "   'start': '00:02:53',\n",
       "   'end': '00:03:16',\n",
       "   'best': '00:03:02',\n",
       "   'relevance': 0.27414780855178833},\n",
       "  {'documentId': '02a504c9cd28296a8b74394ed7488045',\n",
       "   'documentKind': 'VideoInterval',\n",
       "   'start': '00:01:53',\n",
       "   'end': '00:02:09',\n",
       "   'best': '00:02:01',\n",
       "   'relevance': 0.25021910667419434},\n",
       "  {'documentId': '02a504c9cd28296a8b74394ed7488045',\n",
       "   'documentKind': 'VideoInterval',\n",
       "   'start': '00:06:06',\n",
       "   'end': '00:06:15',\n",
       "   'best': '00:06:06',\n",
       "   'relevance': 0.24469682574272156},\n",
       "  {'documentId': '02a504c9cd28296a8b74394ed7488045',\n",
       "   'documentKind': 'VideoInterval',\n",
       "   'start': '00:01:36',\n",
       "   'end': '00:01:53',\n",
       "   'best': '00:01:49',\n",
       "   'relevance': 0.24421446025371552},\n",
       "  {'documentId': '02a504c9cd28296a8b74394ed7488045',\n",
       "   'documentKind': 'VideoInterval',\n",
       "   'start': '00:05:53',\n",
       "   'end': '00:06:06',\n",
       "   'best': '00:06:02',\n",
       "   'relevance': 0.2428886741399765},\n",
       "  {'documentId': '02a504c9cd28296a8b74394ed7488045',\n",
       "   'documentKind': 'VideoInterval',\n",
       "   'start': '00:06:21',\n",
       "   'end': '00:06:31',\n",
       "   'best': '00:06:21',\n",
       "   'relevance': 0.21388325095176697},\n",
       "  {'documentId': '02a504c9cd28296a8b74394ed7488045',\n",
       "   'documentKind': 'VideoInterval',\n",
       "   'start': '00:06:15',\n",
       "   'end': '00:06:21',\n",
       "   'best': '00:06:20',\n",
       "   'relevance': 0.20650824904441833},\n",
       "  {'documentId': '02a504c9cd28296a8b74394ed7488045',\n",
       "   'documentKind': 'VideoInterval',\n",
       "   'start': '00:00:00',\n",
       "   'end': '00:00:07',\n",
       "   'best': '00:00:06',\n",
       "   'relevance': 0.20571021735668182},\n",
       "  {'documentId': '02a504c9cd28296a8b74394ed7488045',\n",
       "   'documentKind': 'VideoInterval',\n",
       "   'start': '00:03:53',\n",
       "   'end': '00:04:04',\n",
       "   'best': '00:03:58',\n",
       "   'relevance': 0.20343077182769775},\n",
       "  {'documentId': '02a504c9cd28296a8b74394ed7488045',\n",
       "   'documentKind': 'VideoInterval',\n",
       "   'start': '00:00:29',\n",
       "   'end': '00:00:41',\n",
       "   'best': '00:00:36',\n",
       "   'relevance': 0.20269019901752472},\n",
       "  {'documentId': '02a504c9cd28296a8b74394ed7488045',\n",
       "   'documentKind': 'VideoInterval',\n",
       "   'start': '00:04:31',\n",
       "   'end': '00:04:52',\n",
       "   'best': '00:04:31',\n",
       "   'relevance': 0.19852609932422638},\n",
       "  {'documentId': '02a504c9cd28296a8b74394ed7488045',\n",
       "   'documentKind': 'VideoInterval',\n",
       "   'start': '00:04:10',\n",
       "   'end': '00:04:25',\n",
       "   'best': '00:04:19',\n",
       "   'relevance': 0.19193987548351288},\n",
       "  {'documentId': '02a504c9cd28296a8b74394ed7488045',\n",
       "   'documentKind': 'VideoInterval',\n",
       "   'start': '00:00:41',\n",
       "   'end': '00:01:00',\n",
       "   'best': '00:00:59',\n",
       "   'relevance': 0.1895136684179306},\n",
       "  {'documentId': '02a504c9cd28296a8b74394ed7488045',\n",
       "   'documentKind': 'VideoInterval',\n",
       "   'start': '00:05:36',\n",
       "   'end': '00:05:53',\n",
       "   'best': '00:05:37',\n",
       "   'relevance': 0.1887243241071701},\n",
       "  {'documentId': '02a504c9cd28296a8b74394ed7488045',\n",
       "   'documentKind': 'VideoInterval',\n",
       "   'start': '00:00:07',\n",
       "   'end': '00:00:29',\n",
       "   'best': '00:00:07',\n",
       "   'relevance': 0.18697907030582428},\n",
       "  {'documentId': '02a504c9cd28296a8b74394ed7488045',\n",
       "   'documentKind': 'VideoInterval',\n",
       "   'start': '00:04:52',\n",
       "   'end': '00:05:15',\n",
       "   'best': '00:05:14',\n",
       "   'relevance': 0.1866322159767151},\n",
       "  {'documentId': '02a504c9cd28296a8b74394ed7488045',\n",
       "   'documentKind': 'VideoInterval',\n",
       "   'start': '00:05:15',\n",
       "   'end': '00:05:36',\n",
       "   'best': '00:05:35',\n",
       "   'relevance': 0.17733198404312134},\n",
       "  {'documentId': '02a504c9cd28296a8b74394ed7488045',\n",
       "   'documentKind': 'VideoInterval',\n",
       "   'start': '00:01:00',\n",
       "   'end': '00:01:08',\n",
       "   'best': '00:01:02',\n",
       "   'relevance': 0.17632056772708893},\n",
       "  {'documentId': '02a504c9cd28296a8b74394ed7488045',\n",
       "   'documentKind': 'VideoInterval',\n",
       "   'start': '00:01:08',\n",
       "   'end': '00:01:23',\n",
       "   'best': '00:01:22',\n",
       "   'relevance': 0.17432430386543274},\n",
       "  {'documentId': '02a504c9cd28296a8b74394ed7488045',\n",
       "   'documentKind': 'VideoInterval',\n",
       "   'start': '00:03:37',\n",
       "   'end': '00:03:53',\n",
       "   'best': '00:03:43',\n",
       "   'relevance': 0.17309819161891937},\n",
       "  {'documentId': '02a504c9cd28296a8b74394ed7488045',\n",
       "   'documentKind': 'VideoInterval',\n",
       "   'start': '00:04:04',\n",
       "   'end': '00:04:10',\n",
       "   'best': '00:04:04',\n",
       "   'relevance': 0.17244181036949158},\n",
       "  {'documentId': '02a504c9cd28296a8b74394ed7488045',\n",
       "   'documentKind': 'VideoInterval',\n",
       "   'start': '00:02:09',\n",
       "   'end': '00:02:22',\n",
       "   'best': '00:02:10',\n",
       "   'relevance': 0.17238570749759674},\n",
       "  {'documentId': '02a504c9cd28296a8b74394ed7488045',\n",
       "   'documentKind': 'VideoInterval',\n",
       "   'start': '00:02:22',\n",
       "   'end': '00:02:30',\n",
       "   'best': '00:02:24',\n",
       "   'relevance': 0.17219984531402588},\n",
       "  {'documentId': '02a504c9cd28296a8b74394ed7488045',\n",
       "   'documentKind': 'VideoInterval',\n",
       "   'start': '00:01:23',\n",
       "   'end': '00:01:36',\n",
       "   'best': '00:01:32',\n",
       "   'relevance': 0.16744714975357056},\n",
       "  {'documentId': '02a504c9cd28296a8b74394ed7488045',\n",
       "   'documentKind': 'VideoInterval',\n",
       "   'start': '00:03:16',\n",
       "   'end': '00:03:37',\n",
       "   'best': '00:03:31',\n",
       "   'relevance': 0.163574680685997},\n",
       "  {'documentId': '02a504c9cd28296a8b74394ed7488045',\n",
       "   'documentKind': 'VideoInterval',\n",
       "   'start': '00:04:25',\n",
       "   'end': '00:04:31',\n",
       "   'best': '00:04:25',\n",
       "   'relevance': 0.1601146161556244}]}"
      ]
     },
     "execution_count": 14,
     "metadata": {},
     "output_type": "execute_result"
    }
   ],
   "source": [
    "response4 = request_video_search('sinkhole')\n",
    "response4"
   ]
  }
 ],
 "metadata": {
  "kernelspec": {
   "display_name": ".venv",
   "language": "python",
   "name": "python3"
  },
  "language_info": {
   "codemirror_mode": {
    "name": "ipython",
    "version": 3
   },
   "file_extension": ".py",
   "mimetype": "text/x-python",
   "name": "python",
   "nbconvert_exporter": "python",
   "pygments_lexer": "ipython3",
   "version": "3.13.1"
  }
 },
 "nbformat": 4,
 "nbformat_minor": 2
}
