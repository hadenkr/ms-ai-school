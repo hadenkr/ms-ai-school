{
 "cells": [
  {
   "cell_type": "code",
   "execution_count": 1,
   "metadata": {},
   "outputs": [],
   "source": [
    "import sys, os\n",
    "\n",
    "current_dir = os.getcwd() #os.path.dirname(__file__)\n",
    "parent_dir = os.path.dirname(current_dir)\n",
    "\n",
    "sys.path.append(parent_dir)"
   ]
  },
  {
   "cell_type": "code",
   "execution_count": 2,
   "metadata": {},
   "outputs": [],
   "source": [
    "from common.config import get_config_info"
   ]
  },
  {
   "cell_type": "code",
   "execution_count": 3,
   "metadata": {},
   "outputs": [],
   "source": [
    "config = get_config_info('./config/settings.json')\n",
    "\n",
    "FEATURES = 'caption'\n",
    "ENDPOINT = config['cv_endpoint']\n",
    "MODEL = config['cv_api_model']\n",
    "API_KEY = config['cv_api_key']\n",
    "API_VERSION = config['cv_api_version']"
   ]
  },
  {
   "cell_type": "code",
   "execution_count": 4,
   "metadata": {},
   "outputs": [],
   "source": [
    "import requests\n",
    "import gradio as gr"
   ]
  },
  {
   "cell_type": "code",
   "execution_count": 5,
   "metadata": {},
   "outputs": [],
   "source": [
    "def request_vision(features, image_path):\n",
    "    query_params = {\n",
    "        'api-version': API_VERSION,\n",
    "        'features': features\n",
    "    }\n",
    "\n",
    "    endpoint = f'{ENDPOINT}{MODEL}'\n",
    "    # method\n",
    "    headers = {\n",
    "        'Ocp-Apim-Subscription-Key': API_KEY,\n",
    "        'Content-Type': 'application/octet-stream'\n",
    "    }\n",
    "\n",
    "    # image_path 로 이미지를 바이너리 형태로 읽어서 전송한다.\n",
    "    with open(image_path, 'rb') as image_file:\n",
    "        image_data = image_file.read()\n",
    "    \n",
    "    response = requests.post(endpoint, params=query_params, headers=headers, data=image_data)\n",
    "\n",
    "    if response.status_code == 200:\n",
    "        return response.json()\n",
    "    else:\n",
    "        return {}\n"
   ]
  },
  {
   "cell_type": "code",
   "execution_count": 6,
   "metadata": {},
   "outputs": [
    {
     "data": {
      "text/plain": [
       "{'modelVersion': '2023-10-01',\n",
       " 'captionResult': {'text': 'a person using a laptop',\n",
       "  'confidence': 0.8266631960868835},\n",
       " 'metadata': {'width': 1260, 'height': 473}}"
      ]
     },
     "execution_count": 6,
     "metadata": {},
     "output_type": "execute_result"
    }
   ],
   "source": [
    "response1 = request_vision(FEATURES, './data/windows-kitchen.jpg')\n",
    "response1"
   ]
  }
 ],
 "metadata": {
  "kernelspec": {
   "display_name": ".venv",
   "language": "python",
   "name": "python3"
  },
  "language_info": {
   "codemirror_mode": {
    "name": "ipython",
    "version": 3
   },
   "file_extension": ".py",
   "mimetype": "text/x-python",
   "name": "python",
   "nbconvert_exporter": "python",
   "pygments_lexer": "ipython3",
   "version": "3.13.1"
  }
 },
 "nbformat": 4,
 "nbformat_minor": 2
}
